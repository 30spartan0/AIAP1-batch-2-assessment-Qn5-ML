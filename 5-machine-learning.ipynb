{
 "cells": [
  {
   "cell_type": "markdown",
   "metadata": {},
   "source": [
    "<br><br>\n",
    "<img src='aisg_logo.png' width=\"700px\">  \n",
    "<br>\n",
    "# AI Apprentice Programme\n",
    "## Take-home Written Assignment\n",
    "\n",
    "### Problem 5 - Machine Learning\n",
    "__This problem is compulsory for all candidates.__\n",
    "\n",
    "The core of artificial intelligence problems today are machine learning algorithms - they have brought new heights to the capabilities of AI. Although AI engineering goes way beyond model building, having modelling and data analytical knowledge is core for any AI engineer today.\n",
    "\n",
    "Hence, this problem will test your ability to build a basic model based on a given dataset. This will be an open-ended problem, and your goal is to build a model to predict a given Y, then provide justification for model evaluation and report your results. Your end goal is 1) a model, and 2) a write up of approximately 2 pages on your modelling process.\n",
    "\n",
    "You will be assessed on your ability to build a performant model through a scientific process, but also on your ability to write clean, reproducible code. While you may use any library, you should display your ability to handle any model you use - that is, your ability to tune the model and work beyond a simple API call.\n",
    "\n",
    "You are open to use all kinds of models in this exercise - __we are not looking only for the most cutting edge model__, but also your ability to work with data, and conduct model tuning and selection. While accuracy is important, we will also favour a well-justified and fitted linear regression model over a blind call of a black box API if you do not display mastery over the black box model you are using.\n",
    "\n",
    "You should be able to complete this question in 2-3 hours. However, you are not restricted to this time frame."
   ]
  },
  {
   "cell_type": "markdown",
   "metadata": {},
   "source": [
    "### Problem\n",
    "\n",
    "In many organisations with data-heavy operations or machine learning products, there exists a need for a lot of compute power. Compute power is distributed to scientists in two main ways - through scaling out and scaling up. Scaling out involves virtualising and instantiating computers that run computation jobs separately, while scaling up involves building up a large computer with massive computational power that runs computation jobs sequentially. This is known as High Performance Computing (HPC).\n",
    "\n",
    "Our problem involves the operation of a HPC. While a naive way to manage jobs within the HPC computer would be through a first-in, first-out (FIFO) queue, this might not be optimal. In some scenarios, a job that takes just a few minutes might end up waiting for previous jobs that take days to finish before it can start. Instead, HPC computers typically have a job scheduler that manages the jobs, giving priority to those that are deemed to be more important, or deemed to be completed more quickly.\n",
    "\n",
    "To help the job scheduler understand which jobs to prioritise, we have a machine learning problem to predict the time it will take for the job submitted to finish. Given a list of parameters (explained below), we predict how long it takes for the job to finish. To simplify the problem, the duration has been reduced from a continuous duration (regression problem) into categories (classification problem). We have the categories of 0: less than 1min, 1: 1-10mins, 2: 10mins-1hr or 3: \\>1hr. Build a model to predict the `duration` variable."
   ]
  },
  {
   "cell_type": "markdown",
   "metadata": {},
   "source": [
    "### Variables\n",
    "|column|description|\n",
    "|-|-|\n",
    "|`Unnamed: 0`|index column|\n",
    "|`type`|types of model categories, labels removed|\n",
    "|`time`|time as percentage of day that passed, i.e. 0.5 = 12 noon|\n",
    "|`dayofweek`| day of week, 1 = monday, 7 = sunday |\n",
    "|`models`|number of models executed by script|\n",
    "|`params`|number of parameters to run in script|\n",
    "|`queuelen`|number of jobs in queue to at time where job was initialised|\n",
    "|`trials`|number of trials ran by model for model testing |\n",
    "|`duration`| categorical duration of model, as specified above|"
   ]
  },
  {
   "cell_type": "markdown",
   "metadata": {},
   "source": [
    "### Dataset\n",
    "You may find the dataset stored as a text file in `data_ml.csv`."
   ]
  },
  {
   "cell_type": "code",
   "execution_count": 2,
   "metadata": {},
   "outputs": [
    {
     "data": {
      "text/html": [
       "<div>\n",
       "<style scoped>\n",
       "    .dataframe tbody tr th:only-of-type {\n",
       "        vertical-align: middle;\n",
       "    }\n",
       "\n",
       "    .dataframe tbody tr th {\n",
       "        vertical-align: top;\n",
       "    }\n",
       "\n",
       "    .dataframe thead th {\n",
       "        text-align: right;\n",
       "    }\n",
       "</style>\n",
       "<table border=\"1\" class=\"dataframe\">\n",
       "  <thead>\n",
       "    <tr style=\"text-align: right;\">\n",
       "      <th></th>\n",
       "      <th>Unnamed: 0</th>\n",
       "      <th>type</th>\n",
       "      <th>time</th>\n",
       "      <th>dayofweek</th>\n",
       "      <th>models</th>\n",
       "      <th>params</th>\n",
       "      <th>queuelen</th>\n",
       "      <th>trials</th>\n",
       "      <th>duration</th>\n",
       "    </tr>\n",
       "  </thead>\n",
       "  <tbody>\n",
       "    <tr>\n",
       "      <th>0</th>\n",
       "      <td>0</td>\n",
       "      <td>13.0</td>\n",
       "      <td>0.568056</td>\n",
       "      <td>2.0</td>\n",
       "      <td>148.0</td>\n",
       "      <td>11252.0</td>\n",
       "      <td>0.0</td>\n",
       "      <td>40.0</td>\n",
       "      <td>2.0</td>\n",
       "    </tr>\n",
       "    <tr>\n",
       "      <th>1</th>\n",
       "      <td>1</td>\n",
       "      <td>12.0</td>\n",
       "      <td>0.715972</td>\n",
       "      <td>2.0</td>\n",
       "      <td>7.0</td>\n",
       "      <td>5923.0</td>\n",
       "      <td>0.0</td>\n",
       "      <td>40.0</td>\n",
       "      <td>1.0</td>\n",
       "    </tr>\n",
       "    <tr>\n",
       "      <th>2</th>\n",
       "      <td>2</td>\n",
       "      <td>13.0</td>\n",
       "      <td>0.222917</td>\n",
       "      <td>5.0</td>\n",
       "      <td>62.0</td>\n",
       "      <td>1906.0</td>\n",
       "      <td>1.0</td>\n",
       "      <td>20.0</td>\n",
       "      <td>0.0</td>\n",
       "    </tr>\n",
       "    <tr>\n",
       "      <th>3</th>\n",
       "      <td>3</td>\n",
       "      <td>5.0</td>\n",
       "      <td>0.424306</td>\n",
       "      <td>5.0</td>\n",
       "      <td>8.0</td>\n",
       "      <td>4023.0</td>\n",
       "      <td>30.0</td>\n",
       "      <td>40.0</td>\n",
       "      <td>0.0</td>\n",
       "    </tr>\n",
       "    <tr>\n",
       "      <th>4</th>\n",
       "      <td>4</td>\n",
       "      <td>12.0</td>\n",
       "      <td>0.672222</td>\n",
       "      <td>5.0</td>\n",
       "      <td>1.0</td>\n",
       "      <td>2480.0</td>\n",
       "      <td>0.0</td>\n",
       "      <td>40.0</td>\n",
       "      <td>1.0</td>\n",
       "    </tr>\n",
       "  </tbody>\n",
       "</table>\n",
       "</div>"
      ],
      "text/plain": [
       "   Unnamed: 0  type      time  dayofweek  models   params  queuelen  trials  \\\n",
       "0           0  13.0  0.568056        2.0   148.0  11252.0       0.0    40.0   \n",
       "1           1  12.0  0.715972        2.0     7.0   5923.0       0.0    40.0   \n",
       "2           2  13.0  0.222917        5.0    62.0   1906.0       1.0    20.0   \n",
       "3           3   5.0  0.424306        5.0     8.0   4023.0      30.0    40.0   \n",
       "4           4  12.0  0.672222        5.0     1.0   2480.0       0.0    40.0   \n",
       "\n",
       "   duration  \n",
       "0       2.0  \n",
       "1       1.0  \n",
       "2       0.0  \n",
       "3       0.0  \n",
       "4       1.0  "
      ]
     },
     "execution_count": 2,
     "metadata": {},
     "output_type": "execute_result"
    }
   ],
   "source": [
    "import pandas\n",
    "pandas.read_csv('data_ml.csv').head()"
   ]
  },
  {
   "cell_type": "markdown",
   "metadata": {},
   "source": [
    "### Deliverables\n",
    "#### 1. Code\n",
    "Please give us the script or notebook you use to model. We allow both R and Python. Do check with us if you wish to other other languages. Please also ensure that your file runs, as we may run it to test that your model truly produces the results you promise. Lastly, please ensure your code is of quality.\n",
    "\n",
    "#### 2. Report\n",
    "Please submit a report with writing of not more than 2 pages in length (this is only writing - we allow it to stretch if you have ample visualisations). However, please be concise in your report. You are expected to include:\n",
    "- Exploratory Data Analysis\n",
    "- Feature engineering (you are allowed to drop or include additional data columns)\n",
    "- Model selection and tuning\n",
    "- Model interpretation\n",
    "- Metrics for model evaluation (please at least provide a confusion matrix - you can go beyond a confusion matrix).\n",
    "\n",
    "These deliverables can be submitted as a notebook, or as a script + a PDF report."
   ]
  },
  {
   "cell_type": "markdown",
   "metadata": {},
   "source": [
    "### Code of Honour\n",
    "By completing this assignment and submitting your response, you automatically declare that your work is your own without plagiarisation. Should we find that you have copied your solution, your response will be heavily penalised."
   ]
  },
  {
   "cell_type": "markdown",
   "metadata": {},
   "source": [
    "__This is the final assignment. Thank you for your hard work, and for applying to the AI Apprentice Programme! :)__"
   ]
  }
 ],
 "metadata": {
  "kernelspec": {
   "display_name": "Python 3",
   "language": "python",
   "name": "python3"
  },
  "language_info": {
   "codemirror_mode": {
    "name": "ipython",
    "version": 3
   },
   "file_extension": ".py",
   "mimetype": "text/x-python",
   "name": "python",
   "nbconvert_exporter": "python",
   "pygments_lexer": "ipython3",
   "version": "3.6.5"
  }
 },
 "nbformat": 4,
 "nbformat_minor": 2
}
